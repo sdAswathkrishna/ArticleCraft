{
 "cells": [
  {
   "cell_type": "code",
   "execution_count": null,
   "id": "90e7d6b3",
   "metadata": {},
   "outputs": [],
   "source": [
    "from sklearn.feature_extraction.text import TfidfVectorizer\n",
    "from sklearn.metrics.pairwise import cosine_similarity\n",
    "from sklearn.neighbors import NearestNeighbors"
   ]
  },
  {
   "cell_type": "code",
   "execution_count": null,
   "id": "b5f1a6cd",
   "metadata": {},
   "outputs": [],
   "source": [
    "# Load your final preprocessed DataFrame\n",
    "import pandas as pd\n",
    "df = pd.read_pickle('final_nlp_data.pkl')  # Adjust path as needed"
   ]
  },
  {
   "cell_type": "code",
   "execution_count": null,
   "id": "685eb0eb",
   "metadata": {},
   "outputs": [],
   "source": [
    "tfidf = TfidfVectorizer(stop_words='english', max_features=5000)\n",
    "tfidf_matrix = tfidf.fit_transform(df['clean_text'])"
   ]
  },
  {
   "cell_type": "code",
   "execution_count": null,
   "id": "90ed6042",
   "metadata": {},
   "outputs": [],
   "source": [
    "# Fit Nearest Neighbors\n",
    "nn = NearestNeighbors(metric='cosine', algorithm='brute')\n",
    "nn.fit(tfidf_matrix)"
   ]
  },
  {
   "cell_type": "code",
   "execution_count": null,
   "id": "5a6931af",
   "metadata": {},
   "outputs": [],
   "source": [
    "# Recommend Function\n",
    "def recommend_articles_nn(title, df=df, top_n=10):\n",
    "    if title not in df['title'].values:\n",
    "        return f\"'{title}' not found.\"\n",
    "\n",
    "    idx = df[df['title'] == title].index[0]\n",
    "    query_vector = tfidf_matrix[idx]\n",
    "\n",
    "    distances, indices = nn.kneighbors(query_vector, n_neighbors=top_n+1)\n",
    "    \n",
    "    # Skip self-match\n",
    "    similar_indices = indices.flatten()[1:]\n",
    "    \n",
    "    return df[['title', 'url']].iloc[similar_indices]"
   ]
  },
  {
   "cell_type": "code",
   "execution_count": null,
   "id": "ad45c42f",
   "metadata": {},
   "outputs": [],
   "source": [
    "recommendations = recommend_articles_nn(\"Mental Note Vol. 24\")\n",
    "print(recommendations)"
   ]
  },
  {
   "cell_type": "markdown",
   "id": "7a3329e1",
   "metadata": {},
   "source": [
    "### Next word Prediction"
   ]
  },
  {
   "cell_type": "code",
   "execution_count": null,
   "id": "922630df",
   "metadata": {},
   "outputs": [],
   "source": [
    "sampled_df = df.sample(n=10000, random_state=42)"
   ]
  },
  {
   "cell_type": "code",
   "execution_count": null,
   "id": "4e4631ea",
   "metadata": {},
   "outputs": [],
   "source": [
    "from nltk.tokenize import sent_tokenize\n",
    "\n",
    "all_sentences = []\n",
    "for doc in sampled_df['clean_text']:\n",
    "    all_sentences.extend(sent_tokenize(doc))"
   ]
  },
  {
   "cell_type": "code",
   "execution_count": null,
   "id": "b962e342",
   "metadata": {},
   "outputs": [],
   "source": [
    "import tensorflow as tf\n",
    "from tensorflow.keras.preprocessing.text import Tokenizer\n",
    "\n",
    "tokenizer = Tokenizer()\n",
    "tokenizer.fit_on_texts(all_sentences)\n",
    "\n",
    "total_words = len(tokenizer.word_index) + 1"
   ]
  },
  {
   "cell_type": "code",
   "execution_count": null,
   "id": "82e46291",
   "metadata": {},
   "outputs": [],
   "source": [
    "sampled_sentences = all_sentences[:5000]"
   ]
  },
  {
   "cell_type": "code",
   "execution_count": null,
   "id": "532317cf",
   "metadata": {},
   "outputs": [],
   "source": [
    "from tqdm import tqdm\n",
    "\n",
    "input_sequences = []\n",
    "\n",
    "for line in tqdm(sampled_sentences, desc=\"Generating n-gram sequences\"):\n",
    "    token_list = tokenizer.texts_to_sequences([line])[0]\n",
    "    for i in range(1, len(token_list)):\n",
    "        n_gram_seq = token_list[:i+1]\n",
    "        input_sequences.append(n_gram_seq)"
   ]
  },
  {
   "cell_type": "code",
   "execution_count": null,
   "id": "a56b739c",
   "metadata": {},
   "outputs": [],
   "source": [
    "# Save to file\n",
    "with open('intermediate_data/input_sequences.pkl', 'wb') as f:\n",
    "    pickle.dump(input_sequences, f)\n",
    "\n",
    "\n",
    "# Free memory\n",
    "del input_sequences\n",
    "gc.collect()"
   ]
  },
  {
   "cell_type": "code",
   "execution_count": null,
   "id": "21a15c38",
   "metadata": {},
   "outputs": [],
   "source": [
    "input_sequences = pd.read_pickle('intermediate_data/input_sequences.pkl')"
   ]
  },
  {
   "cell_type": "code",
   "execution_count": null,
   "id": "a043ed39",
   "metadata": {},
   "outputs": [],
   "source": [
    "from tensorflow.keras.preprocessing.sequence import pad_sequences\n",
    "import numpy as np\n",
    "\n",
    "# Pad to same length\n",
    "max_seq_len = max([len(x) for x in input_sequences])\n",
    "input_sequences = pad_sequences(input_sequences, maxlen=max_seq_len, padding='pre')\n",
    "\n",
    "# Split\n",
    "X = input_sequences[:, :-1]\n",
    "y = input_sequences[:, -1]\n",
    "\n",
    "# One-hot encode labels\n",
    "from tensorflow.keras.utils import to_categorical\n",
    "y = to_categorical(y, num_classes=total_words)"
   ]
  },
  {
   "cell_type": "code",
   "execution_count": null,
   "id": "d746d519",
   "metadata": {},
   "outputs": [],
   "source": [
    "from tensorflow.keras.models import Sequential\n",
    "from tensorflow.keras.layers import Embedding, LSTM, Dense\n",
    "\n",
    "model = Sequential()\n",
    "model.add(Embedding(total_words, 100, input_length=max_seq_len-1))\n",
    "model.add(LSTM(150, return_sequences=True))\n",
    "model.add(LSTM(100))\n",
    "model.add(Dense(total_words, activation='softmax'))\n",
    "\n",
    "model.compile(loss='categorical_crossentropy', optimizer='adam', metrics=['accuracy'])\n",
    "model.summary()"
   ]
  },
  {
   "cell_type": "code",
   "execution_count": null,
   "id": "0b49b7db",
   "metadata": {},
   "outputs": [],
   "source": [
    "model.fit(X, y, epochs=10, verbose=1, batch_size=128)"
   ]
  },
  {
   "cell_type": "code",
   "execution_count": null,
   "id": "4342e149",
   "metadata": {},
   "outputs": [],
   "source": [
    "def generate_next_words(seed_text, next_words=20):\n",
    "    for _ in range(next_words):\n",
    "        token_list = tokenizer.texts_to_sequences([seed_text])[0]\n",
    "        token_list = pad_sequences([token_list], maxlen=max_seq_len-1, padding='pre')\n",
    "        predicted = model.predict(token_list, verbose=0)\n",
    "        output_word = tokenizer.index_word[np.argmax(predicted)]\n",
    "        seed_text += \" \" + output_word\n",
    "    return seed_text"
   ]
  },
  {
   "cell_type": "code",
   "execution_count": null,
   "id": "771d8df1",
   "metadata": {},
   "outputs": [],
   "source": [
    "generate_next_words(\"Hello Everyone\")"
   ]
  }
 ],
 "metadata": {
  "language_info": {
   "name": "python"
  }
 },
 "nbformat": 4,
 "nbformat_minor": 5
}
