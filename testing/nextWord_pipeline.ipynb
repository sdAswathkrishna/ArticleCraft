{
 "cells": [
  {
   "cell_type": "markdown",
   "id": "e7fab6b6",
   "metadata": {},
   "source": [
    "### Next Word Prediction Model Training Pipeline\n",
    "This notebook trains a next-word prediction model using LSTM on a cleaned article dataset."
   ]
  },
  {
   "cell_type": "code",
   "execution_count": null,
   "id": "04afc99f",
   "metadata": {},
   "outputs": [],
   "source": [
    "import pandas as pd\n",
    "import numpy as np\n",
    "import pickle\n",
    "import tensorflow as tf\n",
    "from nltk.tokenize import sent_tokenize\n",
    "from tensorflow.keras.preprocessing.text import Tokenizer\n",
    "from tensorflow.keras.preprocessing.sequence import pad_sequences\n",
    "from tensorflow.keras.models import Sequential\n",
    "from tensorflow.keras.layers import Embedding, LSTM, Dense\n",
    "from tensorflow.keras.callbacks import ModelCheckpoint\n",
    "from tensorflow.keras.utils import Sequence\n",
    "import os"
   ]
  },
  {
   "cell_type": "code",
   "execution_count": null,
   "id": "4a5209dd",
   "metadata": {},
   "outputs": [
    {
     "name": "stdout",
     "output_type": "stream",
     "text": [
      "Loaded 192363 rows\n"
     ]
    }
   ],
   "source": [
    "# Load and preprocess the dataset\n",
    "df = pd.read_pickle('final_nlp_data.pkl')\n",
    "print(f\"Loaded {len(df)} rows\")"
   ]
  },
  {
   "cell_type": "code",
   "execution_count": null,
   "id": "59b64075",
   "metadata": {},
   "outputs": [],
   "source": [
    "# Fit tokenizer on a sample of the data for efficiency\n",
    "sample_df = df.sample(100, random_state=42)\n",
    "\n",
    "# Save sample_df to a temp file\n",
    "sample_df.to_pickle('models/sample_df.pkl')\n",
    "\n",
    "sentences = []\n",
    "for text in sample_df['clean_text']:\n",
    "    sentences.extend([s for s in sent_tokenize(text) if len(s.split()) > 3])\n",
    "\n",
    "tokenizer = Tokenizer(num_words=10000, oov_token=\"<OOV>\")\n",
    "tokenizer.fit_on_texts(sentences)\n",
    "\n",
    "# Save tokenizer\n",
    "os.makedirs('models', exist_ok=True)\n",
    "with open('models/tokenizer.pkl', 'wb') as f:\n",
    "    pickle.dump(tokenizer, f)"
   ]
  },
  {
   "cell_type": "code",
   "execution_count": 5,
   "id": "3575e89e",
   "metadata": {},
   "outputs": [],
   "source": [
    "# Data generator for large-scale training\n",
    "class NGramSequenceGenerator(Sequence):\n",
    "    def __init__(self, df_path, tokenizer, max_seq_len=30, batch_size=128):\n",
    "        self.df = pd.read_pickle(df_path)\n",
    "        self.tokenizer = tokenizer\n",
    "        self.max_seq_len = max_seq_len\n",
    "        self.batch_size = batch_size\n",
    "        self.sentences = self._prepare_sentences()\n",
    "        self.ngrams = self._create_ngram_sequences()\n",
    "\n",
    "    def _prepare_sentences(self):\n",
    "        sentences = []\n",
    "        for text in self.df['clean_text']:\n",
    "            sentences.extend([s for s in sent_tokenize(text) if len(s.split()) > 3])\n",
    "        return sentences\n",
    "\n",
    "    def _create_ngram_sequences(self):\n",
    "        sequences = []\n",
    "        for line in self.sentences:\n",
    "            token_list = self.tokenizer.texts_to_sequences([line])[0]\n",
    "            for i in range(1, len(token_list)):\n",
    "                sequences.append(token_list[:i+1])\n",
    "        return sequences\n",
    "\n",
    "    def __len__(self):\n",
    "        return int(np.ceil(len(self.ngrams) / self.batch_size))\n",
    "\n",
    "    def __getitem__(self, idx):\n",
    "        batch = self.ngrams[idx * self.batch_size:(idx + 1) * self.batch_size]\n",
    "        input_padded = pad_sequences(batch, maxlen=self.max_seq_len, padding='pre')\n",
    "        X = input_padded[:, :-1]\n",
    "        y = input_padded[:, -1]\n",
    "        y = tf.keras.utils.to_categorical(y, num_classes=len(self.tokenizer.word_index)+1)\n",
    "        return X, y"
   ]
  },
  {
   "cell_type": "code",
   "execution_count": null,
   "id": "5519f783",
   "metadata": {},
   "outputs": [],
   "source": [
    "# Build and train the model\n",
    "# Build and train the model\n",
    "import warnings\n",
    "warnings.filterwarnings(\"ignore\")\n",
    "\n",
    "if tf.config.experimental.list_physical_devices('GPU'):\n",
    "    with tf.device('/GPU:0'):\n",
    "        model = Sequential([\n",
    "            Embedding(input_dim=10000, output_dim=128, input_length=29),\n",
    "            LSTM(256, return_sequences=True),\n",
    "            LSTM(128),\n",
    "            Dense(128, activation='relu'),\n",
    "            Dense(len(tokenizer.word_index)+1, activation='softmax')\n",
    "        ])\n",
    "else:\n",
    "    model = Sequential([\n",
    "        Embedding(input_dim=10000, output_dim=128, input_length=29),\n",
    "        LSTM(256, return_sequences=True),\n",
    "        LSTM(128),\n",
    "        Dense(128, activation='relu'),\n",
    "        Dense(len(tokenizer.word_index)+1, activation='softmax')\n",
    "    ])\n",
    "\n",
    "model.compile(optimizer='adam', loss='categorical_crossentropy', metrics=['accuracy'])\n",
    "\n",
    "train_gen = NGramSequenceGenerator('sample_data.pkl', tokenizer, max_seq_len=30)\n",
    "\n",
    "\n",
    "checkpoint = ModelCheckpoint('models/nextword_model.h5', monitor='loss', save_best_only=True)\n",
    "model.fit(train_gen, epochs=100, callbacks=[checkpoint])"
   ]
  },
  {
   "cell_type": "code",
   "execution_count": null,
   "id": "0930e49d",
   "metadata": {},
   "outputs": [],
   "source": [
    "def greedy_sample(preds):\n",
    "    \"\"\"Select the word with the highest probability.\"\"\"\n",
    "    return np.argmax(preds)\n",
    "\n",
    "def generate_next_words(seed_text, model, tokenizer, max_seq_len, num_words=10):\n",
    "    for _ in range(num_words):\n",
    "        token_list = tokenizer.texts_to_sequences([seed_text])[0]\n",
    "        token_list = pad_sequences([token_list], maxlen=max_seq_len - 1, padding='pre')\n",
    "        predicted_probs = model.predict(token_list, verbose=0)[0]\n",
    "        next_index = greedy_sample(predicted_probs)\n",
    "        next_word = tokenizer.index_word.get(next_index, '')\n",
    "        if next_word == \"\":\n",
    "            continue\n",
    "        seed_text += \" \" + next_word\n",
    "    return seed_text"
   ]
  },
  {
   "cell_type": "code",
   "execution_count": null,
   "id": "72429866",
   "metadata": {},
   "outputs": [],
   "source": [
    "model = tf.keras.models.load_model('models/nextword_model.h5')\n",
    "tokenizer = pickle.load(open('models/tokenizer.pkl', 'rb'))\n",
    "max_seq_len = 30"
   ]
  },
  {
   "cell_type": "code",
   "execution_count": null,
   "id": "ce93a9d8",
   "metadata": {},
   "outputs": [],
   "source": [
    "# Example usage\n",
    "print(generate_next_words(\"Artificial intelligence is\", model, tokenizer, max_seq_len))"
   ]
  }
 ],
 "metadata": {
  "kernelspec": {
   "display_name": ".venv",
   "language": "python",
   "name": "python3"
  },
  "language_info": {
   "codemirror_mode": {
    "name": "ipython",
    "version": 3
   },
   "file_extension": ".py",
   "mimetype": "text/x-python",
   "name": "python",
   "nbconvert_exporter": "python",
   "pygments_lexer": "ipython3",
   "version": "3.12.5"
  }
 },
 "nbformat": 4,
 "nbformat_minor": 5
}
