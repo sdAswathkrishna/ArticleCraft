{
 "cells": [
  {
   "cell_type": "markdown",
   "id": "ab24bbe5",
   "metadata": {},
   "source": [
    "### Article Recommendation"
   ]
  },
  {
   "cell_type": "code",
   "execution_count": null,
   "id": "90e7d6b3",
   "metadata": {},
   "outputs": [],
   "source": [
    "import pandas as pd\n",
    "import numpy as np\n",
    "from sklearn.feature_extraction.text import TfidfVectorizer\n",
    "from sklearn.metrics.pairwise import cosine_similarity\n",
    "from sklearn.neighbors import NearestNeighbors\n",
    "import joblib"
   ]
  },
  {
   "cell_type": "code",
   "execution_count": null,
   "id": "b5f1a6cd",
   "metadata": {},
   "outputs": [],
   "source": [
    "# Load your final preprocessed DataFrame\n",
    "df = pd.read_pickle('final_nlp_data.pkl')  # Adjust path as needed"
   ]
  },
  {
   "cell_type": "code",
   "execution_count": null,
   "id": "685eb0eb",
   "metadata": {},
   "outputs": [],
   "source": [
    " # TF-IDF vectorization\n",
    "tfidf = TfidfVectorizer(stop_words='english', max_features=5000)\n",
    "tfidf_matrix = tfidf.fit_transform(df['clean_text'])"
   ]
  },
  {
   "cell_type": "code",
   "execution_count": null,
   "id": "90ed6042",
   "metadata": {},
   "outputs": [],
   "source": [
    "# Fit Nearest Neighbors\n",
    "nn = NearestNeighbors(metric='cosine', algorithm='brute')\n",
    "nn.fit(tfidf_matrix)"
   ]
  },
  {
   "cell_type": "code",
   "execution_count": null,
   "id": "de6af008",
   "metadata": {},
   "outputs": [],
   "source": [
    "# # Save all to disk\n",
    "# joblib.dump(tfidf, 'models/tfidf_vectorizer.pkl')\n",
    "# joblib.dump(tfidf_matrix, 'models/tfidf_matrix.pkl')\n",
    "# joblib.dump(nn, 'models/nearest_neighbors.pkl')"
   ]
  },
  {
   "cell_type": "code",
   "execution_count": null,
   "id": "160ad1a8",
   "metadata": {},
   "outputs": [],
   "source": [
    "tfidf = joblib.load('models/tfidf_vectorizer.pkl')\n",
    "tfidf_matrix = joblib.load('models/tfidf_matrix.pkl')\n",
    "nn = joblib.load('models/nearest_neighbors.pkl')\n",
    "df = pd.read_pickle('final_nlp_data.pkl')"
   ]
  },
  {
   "cell_type": "code",
   "execution_count": null,
   "id": "5a6931af",
   "metadata": {},
   "outputs": [],
   "source": [
    "# Recommend Function\n",
    "def recommend_articles(query, top_k=5):\n",
    "    # Transform query using TF-IDF\n",
    "    query_vec = tfidf.transform([query])\n",
    "    \n",
    "    # Find nearest neighbors\n",
    "    distances, indices = nn.kneighbors(query_vec, n_neighbors=top_k)\n",
    "    \n",
    "    # Fetch and return results\n",
    "    results = df.iloc[indices[0]].copy()\n",
    "    results[\"similarity\"] = 1 - distances[0]  # Cosine similarity = 1 - distance\n",
    "    return results[[\"clean_title\", \"similarity\", \"clean_text\"]]"
   ]
  },
  {
   "cell_type": "code",
   "execution_count": null,
   "id": "ad45c42f",
   "metadata": {},
   "outputs": [],
   "source": [
    "query = \"Recent advancements in AI for healthcare\"\n",
    "recommendations = recommend_articles(query, top_k=5)\n",
    "print(recommendations)"
   ]
  }
 ],
 "metadata": {
  "kernelspec": {
   "display_name": ".venv",
   "language": "python",
   "name": "python3"
  },
  "language_info": {
   "codemirror_mode": {
    "name": "ipython",
    "version": 3
   },
   "file_extension": ".py",
   "mimetype": "text/x-python",
   "name": "python",
   "nbconvert_exporter": "python",
   "pygments_lexer": "ipython3",
   "version": "3.12.5"
  }
 },
 "nbformat": 4,
 "nbformat_minor": 5
}
